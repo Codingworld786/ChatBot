{
  "nbformat": 4,
  "nbformat_minor": 0,
  "metadata": {
    "colab": {
      "provenance": [],
      "gpuType": "T4"
    },
    "kernelspec": {
      "name": "python3",
      "display_name": "Python 3"
    },
    "language_info": {
      "name": "python"
    },
    "accelerator": "GPU"
  },
  "cells": [
    {
      "cell_type": "code",
      "source": [
        "!pip install --quiet bitsandbytes\n",
        "!pip install --quiet git+https://github.com/huggingface/transformers.git # Install latest version of transformers\n",
        "!pip install --quiet accelerate"
      ],
      "metadata": {
        "colab": {
          "base_uri": "https://localhost:8080/"
        },
        "id": "TuAPEpDGrNhP",
        "outputId": "6e985337-d313-4712-94f3-b05a1adf5d65"
      },
      "execution_count": 28,
      "outputs": [
        {
          "output_type": "stream",
          "name": "stdout",
          "text": [
            "\u001b[2K     \u001b[90m━━━━━━━━━━━━━━━━━━━━━━━━━━━━━━━━━━━━━━━━\u001b[0m \u001b[32m105.0/105.0 MB\u001b[0m \u001b[31m2.3 MB/s\u001b[0m eta \u001b[36m0:00:00\u001b[0m\n",
            "\u001b[?25h  Installing build dependencies ... \u001b[?25l\u001b[?25hdone\n",
            "  Getting requirements to build wheel ... \u001b[?25l\u001b[?25hdone\n",
            "  Preparing metadata (pyproject.toml) ... \u001b[?25l\u001b[?25hdone\n",
            "  Building wheel for transformers (pyproject.toml) ... \u001b[?25l\u001b[?25hdone\n",
            "\u001b[2K     \u001b[90m━━━━━━━━━━━━━━━━━━━━━━━━━━━━━━━━━━━━━━━━\u001b[0m \u001b[32m270.7/270.7 kB\u001b[0m \u001b[31m2.2 MB/s\u001b[0m eta \u001b[36m0:00:00\u001b[0m\n",
            "\u001b[?25h"
          ]
        }
      ]
    },
    {
      "cell_type": "code",
      "source": [
        "# ! pip install transformers -q"
      ],
      "metadata": {
        "id": "zQvIuKkl_9IM"
      },
      "execution_count": 57,
      "outputs": []
    },
    {
      "cell_type": "code",
      "source": [
        "from transformers import AutoModelForCausalLM, AutoTokenizer, set_seed\n"
      ],
      "metadata": {
        "id": "9jOnejef_9PT"
      },
      "execution_count": 58,
      "outputs": []
    },
    {
      "cell_type": "code",
      "source": [
        "import torch\n",
        "torch.set_default_tensor_type(torch.cuda.FloatTensor)\n"
      ],
      "metadata": {
        "colab": {
          "base_uri": "https://localhost:8080/"
        },
        "id": "AEl4WMgk_9Sw",
        "outputId": "a5d948af-079e-4261-def3-11f4af20ed93"
      },
      "execution_count": 59,
      "outputs": [
        {
          "output_type": "stream",
          "name": "stderr",
          "text": [
            "/usr/local/lib/python3.10/dist-packages/torch/__init__.py:614: UserWarning: torch.set_default_tensor_type() is deprecated as of PyTorch 2.1, please use torch.set_default_dtype() and torch.set_default_device() as alternatives. (Triggered internally at ../torch/csrc/tensor/python_tensor.cpp:451.)\n",
            "  _C._set_default_tensor_type(t)\n"
          ]
        }
      ]
    },
    {
      "cell_type": "code",
      "source": [],
      "metadata": {
        "id": "spPEp0t0_9Vv"
      },
      "execution_count": null,
      "outputs": []
    },
    {
      "cell_type": "code",
      "source": [
        "model_used = \"bigscience/bloom-3b\"\n",
        "prompt = \"\"\"Offers undergraduate, postgraduate, and doctoral programs across various engineering, science, and management disciplines.\n",
        "Well-known for its rigorous curriculum, outstanding faculty, and emphasis on research and innovation.\n",
        "Boasts numerous top-ranked departments, including Electrical Engineering, Mechanical Engineering, and Computer Science.\n",
        "Alumni go on to successful careers in academia, industry, and entrepreneurship.\"\"\"\n",
        "max_new_tokens = 50\n",
        "\n",
        "def generate_from_model(model, tokenizer):\n",
        "  encoded_input = tokenizer(prompt, return_tensors='pt')\n",
        "  output_sequences = model.generate(input_ids=encoded_input['input_ids'].cuda())\n",
        "  return tokenizer.decode(output_sequences[0], skip_special_tokens=True)"
      ],
      "metadata": {
        "id": "CU3VYVcn0gU8"
      },
      "execution_count": 69,
      "outputs": []
    },
    {
      "cell_type": "code",
      "source": [
        " model_used.__class__.__name__"
      ],
      "metadata": {
        "colab": {
          "base_uri": "https://localhost:8080/",
          "height": 35
        },
        "id": "fGMwfEQxAmsz",
        "outputId": "6a2fa70f-89a8-4695-c302-c682ee268500"
      },
      "execution_count": 61,
      "outputs": [
        {
          "output_type": "execute_result",
          "data": {
            "text/plain": [
              "'str'"
            ],
            "application/vnd.google.colaboratory.intrinsic+json": {
              "type": "string"
            }
          },
          "metadata": {},
          "execution_count": 61
        }
      ]
    },
    {
      "cell_type": "code",
      "source": [
        "set_seed(10)"
      ],
      "metadata": {
        "id": "GDCSfQOTAmwJ"
      },
      "execution_count": 70,
      "outputs": []
    },
    {
      "cell_type": "code",
      "source": [
        "from transformers import pipeline\n",
        "\n",
        "pipe = pipeline(model=model_used, model_kwargs= {\"device_map\": \"auto\", \"load_in_8bit\": True}, max_new_tokens=max_new_tokens)"
      ],
      "metadata": {
        "id": "D3_5ab5j0ob5"
      },
      "execution_count": 65,
      "outputs": []
    },
    {
      "cell_type": "code",
      "source": [
        "pipe(prompt)"
      ],
      "metadata": {
        "colab": {
          "base_uri": "https://localhost:8080/"
        },
        "id": "JJW4JoHGr3ph",
        "outputId": "6faf1371-67fc-4dfd-9339-d36a5dadcd7b"
      },
      "execution_count": 71,
      "outputs": [
        {
          "output_type": "execute_result",
          "data": {
            "text/plain": [
              "[{'generated_text': 'Offers undergraduate, postgraduate, and doctoral programs across various engineering, science, and management disciplines.\\nWell-known for its rigorous curriculum, outstanding faculty, and emphasis on research and innovation.\\nBoasts numerous top-ranked departments, including Electrical Engineering, Mechanical Engineering, and Computer Science.\\nAlumni go on to successful careers in academia, industry, and entrepreneurship. The school has a strong reputation for its research and innovation.\\nThe school has a strong reputation for its research and innovation. The school has a strong reputation for its research and innovation.\\nThe school has a strong reputation for its research and innovation. The school has a strong reputation for its research and innovation.\\nThe school has a strong reputation for its research and innovation. The school has a strong reputation for its research and innovation.\\nThe school has a strong reputation for its research and innovation. The school has a strong reputation for its research and innovation.\\nThe school has a strong reputation for its research and innovation. The school has a strong reputation for its research and innovation.\\nThe school has a strong reputation for its research and innovation. The school has a strong reputation for its research and innovation.\\nThe school has a strong reputation for its research and innovation. The school has a strong reputation for its research and innovation.\\nThe school has a strong reputation for its research and innovation. The school has a strong reputation for its research and innovation.\\nThe school has a strong reputation for its research and innovation. The school has a strong reputation for its research and innovation.\\nThe school has a strong reputation for its research and innovation. The school has a strong reputation for its research and innovation.\\nThe school has a strong reputation for its research and innovation. The school has a strong reputation for its research and innovation.\\nThe school has a strong reputation for its research and innovation. The school has a strong reputation for its research and innovation.\\nThe school has a strong reputation for its research and innovation. The school has a strong reputation for its research and innovation.\\nThe school has a strong reputation for its research and innovation. The school has a strong reputation for its research and innovation.\\nThe school has a strong reputation for its research and innovation. The school has a strong reputation for its research and innovation.\\nThe school has a strong reputation for its research and innovation. The school has a strong reputation for its research and innovation.\\nThe school has a strong reputation for its research and innovation. The school has a strong reputation for its research and innovation.\\nThe school has a strong reputation for its research and innovation. The school has a strong reputation for its research and innovation.\\nThe school has a strong reputation for its research and innovation. The school has a strong reputation for its research and innovation.\\nThe school has a strong reputation for its research and innovation. The school has a strong reputation for its research and innovation.\\nThe school has a strong reputation for its'}]"
            ]
          },
          "metadata": {},
          "execution_count": 71
        }
      ]
    },
    {
      "cell_type": "code",
      "source": [],
      "metadata": {
        "id": "fFv75Pv8tZ2Q"
      },
      "execution_count": null,
      "outputs": []
    }
  ]
}